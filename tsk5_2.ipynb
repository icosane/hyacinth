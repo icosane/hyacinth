{
 "cells": [
  {
   "cell_type": "code",
   "execution_count": 44,
   "metadata": {},
   "outputs": [],
   "source": [
    "import numpy as np\n",
    "import pandas as pd\n",
    "from typing import Dict, Tuple\n",
    "from scipy import stats\n",
    "from IPython.display import Image\n",
    "from io import StringIO \n",
    "from IPython.display import Image\n",
    "import graphviz \n",
    "import pydotplus\n",
    "from sklearn.model_selection import cross_val_score\n",
    "from sklearn.model_selection import train_test_split\n",
    "from sklearn.neighbors import KNeighborsRegressor, KNeighborsClassifier\n",
    "from sklearn.model_selection import GridSearchCV, RandomizedSearchCV\n",
    "from sklearn.metrics import accuracy_score, balanced_accuracy_score\n",
    "from sklearn.metrics import precision_score, recall_score, f1_score, classification_report\n",
    "from sklearn.metrics import confusion_matrix\n",
    "from sklearn.tree import DecisionTreeClassifier, DecisionTreeRegressor, export_graphviz\n",
    "from sklearn.ensemble import RandomForestClassifier, RandomForestRegressor\n",
    "from sklearn.ensemble import ExtraTreesClassifier, ExtraTreesRegressor\n",
    "from sklearn.ensemble import GradientBoostingClassifier, GradientBoostingRegressor\n",
    "from sklearn.ensemble import BaggingClassifier\n",
    "from sklearn.ensemble import AdaBoostClassifier\n",
    "from sklearn.metrics import mean_absolute_error, mean_squared_error, mean_squared_log_error, median_absolute_error, r2_score \n",
    "from sklearn.metrics import roc_curve, roc_auc_score\n",
    "import seaborn as sns\n",
    "import matplotlib.pyplot as plt\n",
    "%matplotlib inline \n",
    "sns.set(style=\"ticks\")"
   ]
  },
  {
   "cell_type": "code",
   "execution_count": 45,
   "metadata": {},
   "outputs": [],
   "source": [
    "data = pd.read_csv('C:\\\\Users\\\\icosane\\\\Documents\\\\univ\\\\archive (2)\\\\apple_quality.csv')\n",
    "\n",
    "#https://www.kaggle.com/datasets/zeesolver/apple-quality"
   ]
  },
  {
   "cell_type": "code",
   "execution_count": 46,
   "metadata": {},
   "outputs": [],
   "source": [
    "target = []\n",
    "for i in data['Quality']:\n",
    "  if i == 'good':\n",
    "    target.append(0)\n",
    "  if i == 'bad':\n",
    "    target.append(1)\n",
    "data['Target'] = target"
   ]
  },
  {
   "cell_type": "code",
   "execution_count": 47,
   "metadata": {},
   "outputs": [
    {
     "data": {
      "text/html": [
       "<div>\n",
       "<style scoped>\n",
       "    .dataframe tbody tr th:only-of-type {\n",
       "        vertical-align: middle;\n",
       "    }\n",
       "\n",
       "    .dataframe tbody tr th {\n",
       "        vertical-align: top;\n",
       "    }\n",
       "\n",
       "    .dataframe thead th {\n",
       "        text-align: right;\n",
       "    }\n",
       "</style>\n",
       "<table border=\"1\" class=\"dataframe\">\n",
       "  <thead>\n",
       "    <tr style=\"text-align: right;\">\n",
       "      <th></th>\n",
       "      <th>Size</th>\n",
       "      <th>Weight</th>\n",
       "      <th>Sweetness</th>\n",
       "      <th>Crunchiness</th>\n",
       "      <th>Juiciness</th>\n",
       "      <th>Ripeness</th>\n",
       "      <th>Acidity</th>\n",
       "    </tr>\n",
       "  </thead>\n",
       "  <tbody>\n",
       "    <tr>\n",
       "      <th>0</th>\n",
       "      <td>-3.970049</td>\n",
       "      <td>-2.512336</td>\n",
       "      <td>5.346330</td>\n",
       "      <td>-1.012009</td>\n",
       "      <td>1.844900</td>\n",
       "      <td>0.329840</td>\n",
       "      <td>-0.491590</td>\n",
       "    </tr>\n",
       "    <tr>\n",
       "      <th>1</th>\n",
       "      <td>-1.195217</td>\n",
       "      <td>-2.839257</td>\n",
       "      <td>3.664059</td>\n",
       "      <td>1.588232</td>\n",
       "      <td>0.853286</td>\n",
       "      <td>0.867530</td>\n",
       "      <td>-0.722809</td>\n",
       "    </tr>\n",
       "    <tr>\n",
       "      <th>2</th>\n",
       "      <td>-0.292024</td>\n",
       "      <td>-1.351282</td>\n",
       "      <td>-1.738429</td>\n",
       "      <td>-0.342616</td>\n",
       "      <td>2.838636</td>\n",
       "      <td>-0.038033</td>\n",
       "      <td>2.621636</td>\n",
       "    </tr>\n",
       "    <tr>\n",
       "      <th>3</th>\n",
       "      <td>-0.657196</td>\n",
       "      <td>-2.271627</td>\n",
       "      <td>1.324874</td>\n",
       "      <td>-0.097875</td>\n",
       "      <td>3.637970</td>\n",
       "      <td>-3.413761</td>\n",
       "      <td>0.790723</td>\n",
       "    </tr>\n",
       "    <tr>\n",
       "      <th>4</th>\n",
       "      <td>1.364217</td>\n",
       "      <td>-1.296612</td>\n",
       "      <td>-0.384658</td>\n",
       "      <td>-0.553006</td>\n",
       "      <td>3.030874</td>\n",
       "      <td>-1.303849</td>\n",
       "      <td>0.501984</td>\n",
       "    </tr>\n",
       "  </tbody>\n",
       "</table>\n",
       "</div>"
      ],
      "text/plain": [
       "       Size    Weight  Sweetness  Crunchiness  Juiciness  Ripeness   Acidity\n",
       "0 -3.970049 -2.512336   5.346330    -1.012009   1.844900  0.329840 -0.491590\n",
       "1 -1.195217 -2.839257   3.664059     1.588232   0.853286  0.867530 -0.722809\n",
       "2 -0.292024 -1.351282  -1.738429    -0.342616   2.838636 -0.038033  2.621636\n",
       "3 -0.657196 -2.271627   1.324874    -0.097875   3.637970 -3.413761  0.790723\n",
       "4  1.364217 -1.296612  -0.384658    -0.553006   3.030874 -1.303849  0.501984"
      ]
     },
     "execution_count": 47,
     "metadata": {},
     "output_type": "execute_result"
    }
   ],
   "source": [
    "X = data.drop(columns=['A_id','Quality','Target'])\n",
    "X19 = data.drop(columns=['A_id','Quality','Target'])\n",
    "y = data['Target'].values\n",
    "X.head()"
   ]
  },
  {
   "cell_type": "code",
   "execution_count": 48,
   "metadata": {},
   "outputs": [],
   "source": [
    "X_train, X_test, y_train, y_test = train_test_split(X, y, test_size=0.2, random_state=1, stratify=y)"
   ]
  },
  {
   "cell_type": "code",
   "execution_count": 49,
   "metadata": {},
   "outputs": [],
   "source": [
    "import tensorflow as tf \n",
    "from tensorflow import keras "
   ]
  },
  {
   "cell_type": "code",
   "execution_count": 50,
   "metadata": {},
   "outputs": [],
   "source": [
    "model = keras.Sequential([ \n",
    "    keras.layers.Dense(10, \n",
    "                       activation='sigmoid', kernel_initializer='glorot_uniform') \n",
    "]) \n",
    "model.compile( \n",
    "    optimizer='adam', \n",
    "    loss='sparse_categorical_crossentropy', \n",
    "    metrics=['accuracy']) \n",
    "  \n",
    "history = model.fit(X_train, y_train, validation_split=0.33, epochs=150, batch_size=10, verbose=0) "
   ]
  },
  {
   "cell_type": "code",
   "execution_count": 51,
   "metadata": {},
   "outputs": [
    {
     "name": "stdout",
     "output_type": "stream",
     "text": [
      "25/25 [==============================] - 0s 959us/step - loss: 0.5238 - accuracy: 0.7500\n"
     ]
    },
    {
     "data": {
      "text/plain": [
       "[0.523786723613739, 0.75]"
      ]
     },
     "execution_count": 51,
     "metadata": {},
     "output_type": "execute_result"
    }
   ],
   "source": [
    "model.evaluate(X_test, y_test) "
   ]
  },
  {
   "cell_type": "code",
   "execution_count": 52,
   "metadata": {},
   "outputs": [
    {
     "data": {
      "image/png": "[encoded data removed]",
      "text/plain": [
       "<Figure size 640x480 with 1 Axes>"
      ]
     },
     "metadata": {},
     "output_type": "display_data"
    }
   ],
   "source": [
    "# summarize history for accuracy\n",
    "plt.plot(history.history['accuracy'])\n",
    "plt.plot(history.history['val_accuracy'])\n",
    "plt.title('model accuracy')\n",
    "plt.ylabel('accuracy')\n",
    "plt.xlabel('epoch')\n",
    "plt.legend(['train', 'test'], loc='upper left')\n",
    "plt.show()\n"
   ]
  },
  {
   "cell_type": "code",
   "execution_count": 53,
   "metadata": {},
   "outputs": [
    {
     "data": {
      "image/png": "[encoded data removed]",
      "text/plain": [
       "<Figure size 640x480 with 1 Axes>"
      ]
     },
     "metadata": {},
     "output_type": "display_data"
    }
   ],
   "source": [
    "# summarize history for loss\n",
    "plt.plot(history.history['loss'])\n",
    "plt.plot(history.history['val_loss'])\n",
    "plt.title('model loss')\n",
    "plt.ylabel('loss')\n",
    "plt.xlabel('epoch')\n",
    "plt.legend(['train', 'test'], loc='upper left')\n",
    "plt.show()"
   ]
  },
  {
   "cell_type": "code",
   "execution_count": 56,
   "metadata": {},
   "outputs": [],
   "source": [
    "from gmdh import Mia\n",
    "\n",
    "#https://stackoverflow.com/questions/77215054/cannot-import-name-regressor-from-gmdh"
   ]
  },
  {
   "cell_type": "code",
   "execution_count": 67,
   "metadata": {},
   "outputs": [],
   "source": [
    "x_train, x_test, y_train, y_test = gmdh.split_data(X, y)\n",
    "model = gmdh.Mia()\n",
    "#model.fit(X_train, y_train)\n",
    "y_pred = model.fit(x_train, y_train).predict(x_test[0], lags=800)\n",
    "#print('MAE={}'.format(result))"
   ]
  },
  {
   "cell_type": "code",
   "execution_count": 68,
   "metadata": {},
   "outputs": [
    {
     "data": {
      "text/plain": [
       "array([0.32073431, 0.25040328, 0.22082832, 0.32012322, 0.1946596 ,\n",
       "       0.51789994, 0.23621469, 0.42267785, 0.39740224, 0.42734936,\n",
       "       0.38834119, 0.42063578, 0.37774628, 0.40594038, 0.38538351,\n",
       "       0.3929724 , 0.38629925, 0.39367472, 0.3884078 , 0.39402378,\n",
       "       0.39062777, 0.39325478, 0.39175231, 0.39291701, 0.39174265,\n",
       "       0.39252833, 0.39177919, 0.39224627, 0.39188339, 0.39213919,\n",
       "       0.39195376, 0.39212925, 0.39201318, 0.39211587, 0.39204733,\n",
       "       0.39209943, 0.39205895, 0.39208739, 0.39206181, 0.39207906,\n",
       "       0.39206465, 0.39207491, 0.3920673 , 0.39207346, 0.39206916,\n",
       "       0.39207286, 0.39207028, 0.39207234, 0.3920708 , 0.39207193,\n",
       "       0.39207101, 0.39207165, 0.39207112, 0.3920715 , 0.39207121,\n",
       "       0.39207144, 0.39207127, 0.39207141, 0.39207131, 0.39207139,\n",
       "       0.39207133, 0.39207137, 0.39207134, 0.39207136, 0.39207134,\n",
       "       0.39207136, 0.39207135, 0.39207135, 0.39207135, 0.39207135,\n",
       "       0.39207135, 0.39207135, 0.39207135, 0.39207135, 0.39207135,\n",
       "       0.39207135, 0.39207135, 0.39207135, 0.39207135, 0.39207135,\n",
       "       0.39207135, 0.39207135, 0.39207135, 0.39207135, 0.39207135,\n",
       "       0.39207135, 0.39207135, 0.39207135, 0.39207135, 0.39207135,\n",
       "       0.39207135, 0.39207135, 0.39207135, 0.39207135, 0.39207135,\n",
       "       0.39207135, 0.39207135, 0.39207135, 0.39207135, 0.39207135,\n",
       "       0.39207135, 0.39207135, 0.39207135, 0.39207135, 0.39207135,\n",
       "       0.39207135, 0.39207135, 0.39207135, 0.39207135, 0.39207135,\n",
       "       0.39207135, 0.39207135, 0.39207135, 0.39207135, 0.39207135,\n",
       "       0.39207135, 0.39207135, 0.39207135, 0.39207135, 0.39207135,\n",
       "       0.39207135, 0.39207135, 0.39207135, 0.39207135, 0.39207135,\n",
       "       0.39207135, 0.39207135, 0.39207135, 0.39207135, 0.39207135,\n",
       "       0.39207135, 0.39207135, 0.39207135, 0.39207135, 0.39207135,\n",
       "       0.39207135, 0.39207135, 0.39207135, 0.39207135, 0.39207135,\n",
       "       0.39207135, 0.39207135, 0.39207135, 0.39207135, 0.39207135,\n",
       "       0.39207135, 0.39207135, 0.39207135, 0.39207135, 0.39207135,\n",
       "       0.39207135, 0.39207135, 0.39207135, 0.39207135, 0.39207135,\n",
       "       0.39207135, 0.39207135, 0.39207135, 0.39207135, 0.39207135,\n",
       "       0.39207135, 0.39207135, 0.39207135, 0.39207135, 0.39207135,\n",
       "       0.39207135, 0.39207135, 0.39207135, 0.39207135, 0.39207135,\n",
       "       0.39207135, 0.39207135, 0.39207135, 0.39207135, 0.39207135,\n",
       "       0.39207135, 0.39207135, 0.39207135, 0.39207135, 0.39207135,\n",
       "       0.39207135, 0.39207135, 0.39207135, 0.39207135, 0.39207135,\n",
       "       0.39207135, 0.39207135, 0.39207135, 0.39207135, 0.39207135,\n",
       "       0.39207135, 0.39207135, 0.39207135, 0.39207135, 0.39207135,\n",
       "       0.39207135, 0.39207135, 0.39207135, 0.39207135, 0.39207135,\n",
       "       0.39207135, 0.39207135, 0.39207135, 0.39207135, 0.39207135,\n",
       "       0.39207135, 0.39207135, 0.39207135, 0.39207135, 0.39207135,\n",
       "       0.39207135, 0.39207135, 0.39207135, 0.39207135, 0.39207135,\n",
       "       0.39207135, 0.39207135, 0.39207135, 0.39207135, 0.39207135,\n",
       "       0.39207135, 0.39207135, 0.39207135, 0.39207135, 0.39207135,\n",
       "       0.39207135, 0.39207135, 0.39207135, 0.39207135, 0.39207135,\n",
       "       0.39207135, 0.39207135, 0.39207135, 0.39207135, 0.39207135,\n",
       "       0.39207135, 0.39207135, 0.39207135, 0.39207135, 0.39207135,\n",
       "       0.39207135, 0.39207135, 0.39207135, 0.39207135, 0.39207135,\n",
       "       0.39207135, 0.39207135, 0.39207135, 0.39207135, 0.39207135,\n",
       "       0.39207135, 0.39207135, 0.39207135, 0.39207135, 0.39207135,\n",
       "       0.39207135, 0.39207135, 0.39207135, 0.39207135, 0.39207135,\n",
       "       0.39207135, 0.39207135, 0.39207135, 0.39207135, 0.39207135,\n",
       "       0.39207135, 0.39207135, 0.39207135, 0.39207135, 0.39207135,\n",
       "       0.39207135, 0.39207135, 0.39207135, 0.39207135, 0.39207135,\n",
       "       0.39207135, 0.39207135, 0.39207135, 0.39207135, 0.39207135,\n",
       "       0.39207135, 0.39207135, 0.39207135, 0.39207135, 0.39207135,\n",
       "       0.39207135, 0.39207135, 0.39207135, 0.39207135, 0.39207135,\n",
       "       0.39207135, 0.39207135, 0.39207135, 0.39207135, 0.39207135,\n",
       "       0.39207135, 0.39207135, 0.39207135, 0.39207135, 0.39207135,\n",
       "       0.39207135, 0.39207135, 0.39207135, 0.39207135, 0.39207135,\n",
       "       0.39207135, 0.39207135, 0.39207135, 0.39207135, 0.39207135,\n",
       "       0.39207135, 0.39207135, 0.39207135, 0.39207135, 0.39207135,\n",
       "       0.39207135, 0.39207135, 0.39207135, 0.39207135, 0.39207135,\n",
       "       0.39207135, 0.39207135, 0.39207135, 0.39207135, 0.39207135,\n",
       "       0.39207135, 0.39207135, 0.39207135, 0.39207135, 0.39207135,\n",
       "       0.39207135, 0.39207135, 0.39207135, 0.39207135, 0.39207135,\n",
       "       0.39207135, 0.39207135, 0.39207135, 0.39207135, 0.39207135,\n",
       "       0.39207135, 0.39207135, 0.39207135, 0.39207135, 0.39207135,\n",
       "       0.39207135, 0.39207135, 0.39207135, 0.39207135, 0.39207135,\n",
       "       0.39207135, 0.39207135, 0.39207135, 0.39207135, 0.39207135,\n",
       "       0.39207135, 0.39207135, 0.39207135, 0.39207135, 0.39207135,\n",
       "       0.39207135, 0.39207135, 0.39207135, 0.39207135, 0.39207135,\n",
       "       0.39207135, 0.39207135, 0.39207135, 0.39207135, 0.39207135,\n",
       "       0.39207135, 0.39207135, 0.39207135, 0.39207135, 0.39207135,\n",
       "       0.39207135, 0.39207135, 0.39207135, 0.39207135, 0.39207135,\n",
       "       0.39207135, 0.39207135, 0.39207135, 0.39207135, 0.39207135,\n",
       "       0.39207135, 0.39207135, 0.39207135, 0.39207135, 0.39207135,\n",
       "       0.39207135, 0.39207135, 0.39207135, 0.39207135, 0.39207135,\n",
       "       0.39207135, 0.39207135, 0.39207135, 0.39207135, 0.39207135,\n",
       "       0.39207135, 0.39207135, 0.39207135, 0.39207135, 0.39207135,\n",
       "       0.39207135, 0.39207135, 0.39207135, 0.39207135, 0.39207135,\n",
       "       0.39207135, 0.39207135, 0.39207135, 0.39207135, 0.39207135,\n",
       "       0.39207135, 0.39207135, 0.39207135, 0.39207135, 0.39207135,\n",
       "       0.39207135, 0.39207135, 0.39207135, 0.39207135, 0.39207135,\n",
       "       0.39207135, 0.39207135, 0.39207135, 0.39207135, 0.39207135,\n",
       "       0.39207135, 0.39207135, 0.39207135, 0.39207135, 0.39207135,\n",
       "       0.39207135, 0.39207135, 0.39207135, 0.39207135, 0.39207135,\n",
       "       0.39207135, 0.39207135, 0.39207135, 0.39207135, 0.39207135,\n",
       "       0.39207135, 0.39207135, 0.39207135, 0.39207135, 0.39207135,\n",
       "       0.39207135, 0.39207135, 0.39207135, 0.39207135, 0.39207135,\n",
       "       0.39207135, 0.39207135, 0.39207135, 0.39207135, 0.39207135,\n",
       "       0.39207135, 0.39207135, 0.39207135, 0.39207135, 0.39207135,\n",
       "       0.39207135, 0.39207135, 0.39207135, 0.39207135, 0.39207135,\n",
       "       0.39207135, 0.39207135, 0.39207135, 0.39207135, 0.39207135,\n",
       "       0.39207135, 0.39207135, 0.39207135, 0.39207135, 0.39207135,\n",
       "       0.39207135, 0.39207135, 0.39207135, 0.39207135, 0.39207135,\n",
       "       0.39207135, 0.39207135, 0.39207135, 0.39207135, 0.39207135,\n",
       "       0.39207135, 0.39207135, 0.39207135, 0.39207135, 0.39207135,\n",
       "       0.39207135, 0.39207135, 0.39207135, 0.39207135, 0.39207135,\n",
       "       0.39207135, 0.39207135, 0.39207135, 0.39207135, 0.39207135,\n",
       "       0.39207135, 0.39207135, 0.39207135, 0.39207135, 0.39207135,\n",
       "       0.39207135, 0.39207135, 0.39207135, 0.39207135, 0.39207135,\n",
       "       0.39207135, 0.39207135, 0.39207135, 0.39207135, 0.39207135,\n",
       "       0.39207135, 0.39207135, 0.39207135, 0.39207135, 0.39207135,\n",
       "       0.39207135, 0.39207135, 0.39207135, 0.39207135, 0.39207135,\n",
       "       0.39207135, 0.39207135, 0.39207135, 0.39207135, 0.39207135,\n",
       "       0.39207135, 0.39207135, 0.39207135, 0.39207135, 0.39207135,\n",
       "       0.39207135, 0.39207135, 0.39207135, 0.39207135, 0.39207135,\n",
       "       0.39207135, 0.39207135, 0.39207135, 0.39207135, 0.39207135,\n",
       "       0.39207135, 0.39207135, 0.39207135, 0.39207135, 0.39207135,\n",
       "       0.39207135, 0.39207135, 0.39207135, 0.39207135, 0.39207135,\n",
       "       0.39207135, 0.39207135, 0.39207135, 0.39207135, 0.39207135,\n",
       "       0.39207135, 0.39207135, 0.39207135, 0.39207135, 0.39207135,\n",
       "       0.39207135, 0.39207135, 0.39207135, 0.39207135, 0.39207135,\n",
       "       0.39207135, 0.39207135, 0.39207135, 0.39207135, 0.39207135,\n",
       "       0.39207135, 0.39207135, 0.39207135, 0.39207135, 0.39207135,\n",
       "       0.39207135, 0.39207135, 0.39207135, 0.39207135, 0.39207135,\n",
       "       0.39207135, 0.39207135, 0.39207135, 0.39207135, 0.39207135,\n",
       "       0.39207135, 0.39207135, 0.39207135, 0.39207135, 0.39207135,\n",
       "       0.39207135, 0.39207135, 0.39207135, 0.39207135, 0.39207135,\n",
       "       0.39207135, 0.39207135, 0.39207135, 0.39207135, 0.39207135,\n",
       "       0.39207135, 0.39207135, 0.39207135, 0.39207135, 0.39207135,\n",
       "       0.39207135, 0.39207135, 0.39207135, 0.39207135, 0.39207135,\n",
       "       0.39207135, 0.39207135, 0.39207135, 0.39207135, 0.39207135,\n",
       "       0.39207135, 0.39207135, 0.39207135, 0.39207135, 0.39207135,\n",
       "       0.39207135, 0.39207135, 0.39207135, 0.39207135, 0.39207135,\n",
       "       0.39207135, 0.39207135, 0.39207135, 0.39207135, 0.39207135,\n",
       "       0.39207135, 0.39207135, 0.39207135, 0.39207135, 0.39207135,\n",
       "       0.39207135, 0.39207135, 0.39207135, 0.39207135, 0.39207135,\n",
       "       0.39207135, 0.39207135, 0.39207135, 0.39207135, 0.39207135,\n",
       "       0.39207135, 0.39207135, 0.39207135, 0.39207135, 0.39207135,\n",
       "       0.39207135, 0.39207135, 0.39207135, 0.39207135, 0.39207135,\n",
       "       0.39207135, 0.39207135, 0.39207135, 0.39207135, 0.39207135,\n",
       "       0.39207135, 0.39207135, 0.39207135, 0.39207135, 0.39207135,\n",
       "       0.39207135, 0.39207135, 0.39207135, 0.39207135, 0.39207135,\n",
       "       0.39207135, 0.39207135, 0.39207135, 0.39207135, 0.39207135,\n",
       "       0.39207135, 0.39207135, 0.39207135, 0.39207135, 0.39207135,\n",
       "       0.39207135, 0.39207135, 0.39207135, 0.39207135, 0.39207135,\n",
       "       0.39207135, 0.39207135, 0.39207135, 0.39207135, 0.39207135,\n",
       "       0.39207135, 0.39207135, 0.39207135, 0.39207135, 0.39207135,\n",
       "       0.39207135, 0.39207135, 0.39207135, 0.39207135, 0.39207135,\n",
       "       0.39207135, 0.39207135, 0.39207135, 0.39207135, 0.39207135,\n",
       "       0.39207135, 0.39207135, 0.39207135, 0.39207135, 0.39207135,\n",
       "       0.39207135, 0.39207135, 0.39207135, 0.39207135, 0.39207135,\n",
       "       0.39207135, 0.39207135, 0.39207135, 0.39207135, 0.39207135,\n",
       "       0.39207135, 0.39207135, 0.39207135, 0.39207135, 0.39207135,\n",
       "       0.39207135, 0.39207135, 0.39207135, 0.39207135, 0.39207135,\n",
       "       0.39207135, 0.39207135, 0.39207135, 0.39207135, 0.39207135,\n",
       "       0.39207135, 0.39207135, 0.39207135, 0.39207135, 0.39207135,\n",
       "       0.39207135, 0.39207135, 0.39207135, 0.39207135, 0.39207135,\n",
       "       0.39207135, 0.39207135, 0.39207135, 0.39207135, 0.39207135,\n",
       "       0.39207135, 0.39207135, 0.39207135, 0.39207135, 0.39207135,\n",
       "       0.39207135, 0.39207135, 0.39207135, 0.39207135, 0.39207135,\n",
       "       0.39207135, 0.39207135, 0.39207135, 0.39207135, 0.39207135,\n",
       "       0.39207135, 0.39207135, 0.39207135, 0.39207135, 0.39207135,\n",
       "       0.39207135, 0.39207135, 0.39207135, 0.39207135, 0.39207135,\n",
       "       0.39207135, 0.39207135, 0.39207135, 0.39207135, 0.39207135,\n",
       "       0.39207135, 0.39207135, 0.39207135, 0.39207135, 0.39207135,\n",
       "       0.39207135, 0.39207135, 0.39207135, 0.39207135, 0.39207135])"
      ]
     },
     "execution_count": 68,
     "metadata": {},
     "output_type": "execute_result"
    }
   ],
   "source": [
    "y_pred"
   ]
  },
  {
   "cell_type": "code",
   "execution_count": 69,
   "metadata": {},
   "outputs": [
    {
     "name": "stdout",
     "output_type": "stream",
     "text": [
      "MAE=0.4991255646092481\n"
     ]
    }
   ],
   "source": [
    "result = mean_absolute_error(y_test, y_pred)\n",
    "print('MAE={}'.format(result))"
   ]
  },
  {
   "cell_type": "code",
   "execution_count": 74,
   "metadata": {},
   "outputs": [],
   "source": [
    "def vis_models_quality(array_metric, array_labels, str_header, figsize=(5, 5)):\n",
    "    fig, ax1 = plt.subplots(figsize=figsize)\n",
    "    pos = np.arange(len(array_metric))\n",
    "    rects = ax1.barh(pos, array_metric,\n",
    "                     align='center',\n",
    "                     height=0.5, \n",
    "                     tick_label=array_labels)\n",
    "    ax1.set_title(str_header)\n",
    "    for a,b in zip(pos, array_metric):\n",
    "        plt.text(0.2, a-0.1, str(round(b,3)), color='white')\n",
    "    plt.show()"
   ]
  },
  {
   "cell_type": "code",
   "execution_count": 75,
   "metadata": {},
   "outputs": [
    {
     "data": {
      "image/png": "[encoded data removed]",
      "text/plain": [
       "<Figure size 500x500 with 1 Axes>"
      ]
     },
     "metadata": {},
     "output_type": "display_data"
    }
   ],
   "source": [
    "model_gb = GradientBoostingRegressor()\n",
    "model_gb.fit(x_train, y_train)\n",
    "y_pred_gb = model.predict(x_test)\n",
    "result_gb = mean_absolute_error(y_test, y_pred)\n",
    "\n",
    "array_labels2 = ['gmdh.Mia']\n",
    "array_mae2 = [0.4991255646092481]\n",
    "\n",
    "array_labels2 = array_labels2 + ['GB']\n",
    "array_mae2 = array_mae2 + [result_gb]\n",
    "\n",
    "\n",
    "\n",
    "vis_models_quality(array_mae2, array_labels2, 'MAE для моделей бустинга и МГУА')"
   ]
  }
 ],
 "metadata": {
  "kernelspec": {
   "display_name": "Python 3",
   "language": "python",
   "name": "python3"
  },
  "language_info": {
   "codemirror_mode": {
    "name": "ipython",
    "version": 3
   },
   "file_extension": ".py",
   "mimetype": "text/x-python",
   "name": "python",
   "nbconvert_exporter": "python",
   "pygments_lexer": "ipython3",
   "version": "3.11.4"
  }
 },
 "nbformat": 4,
 "nbformat_minor": 2
}
